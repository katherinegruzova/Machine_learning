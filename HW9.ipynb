{
 "cells": [
  {
   "cell_type": "markdown",
   "metadata": {},
   "source": [
    "Нужно реализовать rest api на базе flask в google colab.\n",
    "\n",
    "1. выбрать себе датасет (который интересен или нравится больше всего, можно глянуть здесь https://economic-caper-a4c.notion.site/d062c410b90145bca90fc23b1348c813), сделать pipeline (преобразования + модель), сохранить его на диск. Если не хочется пайплайн, то можно без него, но так вам же будет удобнее потом вызывать его из кода сервиса.\n",
    "2. Реализовать ноутбук с сервером\n",
    "3. Реализовать ноутбук с клиентом"
   ]
  },
  {
   "cell_type": "code",
   "execution_count": 1,
   "metadata": {},
   "outputs": [
    {
     "name": "stdout",
     "output_type": "stream",
     "text": [
      "Requirement already satisfied: dill in c:\\users\\ekate\\anaconda3\\lib\\site-packages (0.3.6)\n"
     ]
    }
   ],
   "source": [
    "!pip install dill"
   ]
  },
  {
   "cell_type": "code",
   "execution_count": 2,
   "metadata": {},
   "outputs": [],
   "source": [
    "import pandas as pd\n",
    "import dill\n",
    "import numpy as np\n",
    "from sklearn.model_selection import train_test_split\n",
    "from sklearn.base import BaseEstimator, TransformerMixin\n",
    "from sklearn.linear_model import LogisticRegression\n",
    "from sklearn.metrics import confusion_matrix, accuracy_score, classification_report\n",
    "from sklearn.metrics import roc_auc_score, roc_curve, precision_recall_curve\n",
    "from sklearn.metrics import f1_score\n",
    "\n",
    "#working with text\n",
    "from sklearn.feature_extraction.text import TfidfVectorizer\n",
    "\n",
    "#normalizing data\n",
    "from sklearn.preprocessing import StandardScaler\n",
    "\n",
    "#pipeline\n",
    "from sklearn.pipeline import Pipeline, FeatureUnion\n",
    "from sklearn.metrics import precision_score,recall_score\n",
    "\n",
    "#imputer\n",
    "from sklearn.impute import SimpleImputer\n",
    "\n",
    "import sklearn.datasets"
   ]
  },
  {
   "cell_type": "code",
   "execution_count": 3,
   "metadata": {},
   "outputs": [
    {
     "data": {
      "text/html": [
       "<div>\n",
       "<style scoped>\n",
       "    .dataframe tbody tr th:only-of-type {\n",
       "        vertical-align: middle;\n",
       "    }\n",
       "\n",
       "    .dataframe tbody tr th {\n",
       "        vertical-align: top;\n",
       "    }\n",
       "\n",
       "    .dataframe thead th {\n",
       "        text-align: right;\n",
       "    }\n",
       "</style>\n",
       "<table border=\"1\" class=\"dataframe\">\n",
       "  <thead>\n",
       "    <tr style=\"text-align: right;\">\n",
       "      <th></th>\n",
       "      <th>Id</th>\n",
       "      <th>Title</th>\n",
       "      <th>Body</th>\n",
       "      <th>Tags</th>\n",
       "      <th>CreationDate</th>\n",
       "      <th>Y</th>\n",
       "    </tr>\n",
       "  </thead>\n",
       "  <tbody>\n",
       "    <tr>\n",
       "      <th>0</th>\n",
       "      <td>34552656</td>\n",
       "      <td>Java: Repeat Task Every Random Seconds</td>\n",
       "      <td>&lt;p&gt;I'm already familiar with repeating tasks e...</td>\n",
       "      <td>&lt;java&gt;&lt;repeat&gt;</td>\n",
       "      <td>2016-01-01 00:21:59</td>\n",
       "      <td>LQ_CLOSE</td>\n",
       "    </tr>\n",
       "    <tr>\n",
       "      <th>1</th>\n",
       "      <td>34553034</td>\n",
       "      <td>Why are Java Optionals immutable?</td>\n",
       "      <td>&lt;p&gt;I'd like to understand why Java 8 Optionals...</td>\n",
       "      <td>&lt;java&gt;&lt;optional&gt;</td>\n",
       "      <td>2016-01-01 02:03:20</td>\n",
       "      <td>HQ</td>\n",
       "    </tr>\n",
       "    <tr>\n",
       "      <th>2</th>\n",
       "      <td>34553174</td>\n",
       "      <td>Text Overlay Image with Darkened Opacity React...</td>\n",
       "      <td>&lt;p&gt;I am attempting to overlay a title over an ...</td>\n",
       "      <td>&lt;javascript&gt;&lt;image&gt;&lt;overlay&gt;&lt;react-native&gt;&lt;opa...</td>\n",
       "      <td>2016-01-01 02:48:24</td>\n",
       "      <td>HQ</td>\n",
       "    </tr>\n",
       "    <tr>\n",
       "      <th>3</th>\n",
       "      <td>34553318</td>\n",
       "      <td>Why ternary operator in swift is so picky?</td>\n",
       "      <td>&lt;p&gt;The question is very simple, but I just cou...</td>\n",
       "      <td>&lt;swift&gt;&lt;operators&gt;&lt;whitespace&gt;&lt;ternary-operato...</td>\n",
       "      <td>2016-01-01 03:30:17</td>\n",
       "      <td>HQ</td>\n",
       "    </tr>\n",
       "    <tr>\n",
       "      <th>4</th>\n",
       "      <td>34553755</td>\n",
       "      <td>hide/show fab with scale animation</td>\n",
       "      <td>&lt;p&gt;I'm using custom floatingactionmenu. I need...</td>\n",
       "      <td>&lt;android&gt;&lt;material-design&gt;&lt;floating-action-but...</td>\n",
       "      <td>2016-01-01 05:21:48</td>\n",
       "      <td>HQ</td>\n",
       "    </tr>\n",
       "  </tbody>\n",
       "</table>\n",
       "</div>"
      ],
      "text/plain": [
       "         Id                                              Title  \\\n",
       "0  34552656             Java: Repeat Task Every Random Seconds   \n",
       "1  34553034                  Why are Java Optionals immutable?   \n",
       "2  34553174  Text Overlay Image with Darkened Opacity React...   \n",
       "3  34553318         Why ternary operator in swift is so picky?   \n",
       "4  34553755                 hide/show fab with scale animation   \n",
       "\n",
       "                                                Body  \\\n",
       "0  <p>I'm already familiar with repeating tasks e...   \n",
       "1  <p>I'd like to understand why Java 8 Optionals...   \n",
       "2  <p>I am attempting to overlay a title over an ...   \n",
       "3  <p>The question is very simple, but I just cou...   \n",
       "4  <p>I'm using custom floatingactionmenu. I need...   \n",
       "\n",
       "                                                Tags         CreationDate  \\\n",
       "0                                     <java><repeat>  2016-01-01 00:21:59   \n",
       "1                                   <java><optional>  2016-01-01 02:03:20   \n",
       "2  <javascript><image><overlay><react-native><opa...  2016-01-01 02:48:24   \n",
       "3  <swift><operators><whitespace><ternary-operato...  2016-01-01 03:30:17   \n",
       "4  <android><material-design><floating-action-but...  2016-01-01 05:21:48   \n",
       "\n",
       "          Y  \n",
       "0  LQ_CLOSE  \n",
       "1        HQ  \n",
       "2        HQ  \n",
       "3        HQ  \n",
       "4        HQ  "
      ]
     },
     "execution_count": 3,
     "metadata": {},
     "output_type": "execute_result"
    }
   ],
   "source": [
    "df = pd.read_csv(\"./train.csv\")\n",
    "df.head(5)"
   ]
  },
  {
   "cell_type": "code",
   "execution_count": 4,
   "metadata": {},
   "outputs": [
    {
     "name": "stdout",
     "output_type": "stream",
     "text": [
      "<class 'pandas.core.frame.DataFrame'>\n",
      "RangeIndex: 45000 entries, 0 to 44999\n",
      "Data columns (total 6 columns):\n",
      " #   Column        Non-Null Count  Dtype \n",
      "---  ------        --------------  ----- \n",
      " 0   Id            45000 non-null  int64 \n",
      " 1   Title         45000 non-null  object\n",
      " 2   Body          45000 non-null  object\n",
      " 3   Tags          45000 non-null  object\n",
      " 4   CreationDate  45000 non-null  object\n",
      " 5   Y             45000 non-null  object\n",
      "dtypes: int64(1), object(5)\n",
      "memory usage: 2.1+ MB\n"
     ]
    }
   ],
   "source": [
    "df.info()"
   ]
  },
  {
   "cell_type": "code",
   "execution_count": 5,
   "metadata": {},
   "outputs": [
    {
     "data": {
      "text/plain": [
       "LQ_CLOSE    15000\n",
       "HQ          15000\n",
       "LQ_EDIT     15000\n",
       "Name: Y, dtype: int64"
      ]
     },
     "execution_count": 5,
     "metadata": {},
     "output_type": "execute_result"
    }
   ],
   "source": [
    "df['Y'].value_counts()"
   ]
  },
  {
   "cell_type": "code",
   "execution_count": 6,
   "metadata": {},
   "outputs": [],
   "source": [
    "df['Y'] = df['Y'].apply(lambda x: 0 if x == 'HQ' else 1)"
   ]
  },
  {
   "cell_type": "code",
   "execution_count": 7,
   "metadata": {},
   "outputs": [
    {
     "data": {
      "text/plain": [
       "1    30000\n",
       "0    15000\n",
       "Name: Y, dtype: int64"
      ]
     },
     "execution_count": 7,
     "metadata": {},
     "output_type": "execute_result"
    }
   ],
   "source": [
    "df['Y'].value_counts()"
   ]
  },
  {
   "cell_type": "code",
   "execution_count": 8,
   "metadata": {},
   "outputs": [],
   "source": [
    "X_train, X_test, y_train, y_test = train_test_split(df, df['Y'], test_size=0.33, random_state=42)\n",
    "# save test\n",
    "X_test.to_csv(\"X_test.csv\", index=None)\n",
    "y_test.to_csv(\"y_test.csv\", index=None)\n",
    "\n",
    "# save train\n",
    "X_train.to_csv(\"X_train.csv\", index=None)\n",
    "y_train.to_csv(\"y_train.csv\", index=None)"
   ]
  },
  {
   "cell_type": "code",
   "execution_count": 9,
   "metadata": {},
   "outputs": [],
   "source": [
    "class ColumnSelector(BaseEstimator, TransformerMixin):\n",
    "    \"\"\"\n",
    "    Transformer to select a single column from the data frame to perform additional transformations on\n",
    "    \"\"\"\n",
    "    def __init__(self, key):\n",
    "        self.key = key\n",
    "\n",
    "    def fit(self, X, y=None):\n",
    "        return self\n",
    "\n",
    "    def transform(self, X):\n",
    "        return X[self.key]\n",
    "    \n",
    "\n",
    "class TextImputer(BaseEstimator, TransformerMixin):\n",
    "    def __init__(self, key, value):\n",
    "        self.key = key\n",
    "        self.value = value\n",
    "    \n",
    "    def fit(self, X, y=None):\n",
    "        return self\n",
    "    \n",
    "    def transform(self, X):\n",
    "        X[self.key] = X[self.key].fillna(self.value)\n",
    "        return X"
   ]
  },
  {
   "cell_type": "code",
   "execution_count": 10,
   "metadata": {},
   "outputs": [],
   "source": [
    "features = ['Title', 'Body', 'Tags']\n",
    "target = 'Y'"
   ]
  },
  {
   "cell_type": "code",
   "execution_count": 11,
   "metadata": {},
   "outputs": [],
   "source": [
    "# combine\n",
    "Title = Pipeline([\n",
    "                ('imputer', TextImputer('Title', '')),\n",
    "                ('selector', ColumnSelector(key='Title')),\n",
    "                ('tfidf', TfidfVectorizer())\n",
    "            ])\n",
    "\n",
    "Body = Pipeline([\n",
    "                ('imputer', TextImputer('Body', '')),\n",
    "                ('selector', ColumnSelector(key='Body')),\n",
    "                ('tfidf', TfidfVectorizer())\n",
    "            ])\n",
    "\n",
    "Tags = Pipeline([\n",
    "                ('imputer', TextImputer('Tags', '')),\n",
    "                ('selector', ColumnSelector(key='Tags')),\n",
    "                ('tfidf', TfidfVectorizer())\n",
    "            ])\n",
    "\n",
    "\n",
    "feats = FeatureUnion([('Title', Title),\n",
    "                      ('Body', Body),\n",
    "                      ('Tags', Tags)])"
   ]
  },
  {
   "cell_type": "code",
   "execution_count": 12,
   "metadata": {},
   "outputs": [
    {
     "name": "stdout",
     "output_type": "stream",
     "text": [
      "CPU times: total: 14.2 s\n",
      "Wall time: 11.7 s\n"
     ]
    },
    {
     "data": {
      "text/plain": [
       "Pipeline(steps=[('features',\n",
       "                 FeatureUnion(transformer_list=[('Title',\n",
       "                                                 Pipeline(steps=[('imputer',\n",
       "                                                                  TextImputer(key='Title',\n",
       "                                                                              value='')),\n",
       "                                                                 ('selector',\n",
       "                                                                  ColumnSelector(key='Title')),\n",
       "                                                                 ('tfidf',\n",
       "                                                                  TfidfVectorizer())])),\n",
       "                                                ('Body',\n",
       "                                                 Pipeline(steps=[('imputer',\n",
       "                                                                  TextImputer(key='Body',\n",
       "                                                                              value='')),\n",
       "                                                                 ('selector',\n",
       "                                                                  ColumnSelector(key='Body')),\n",
       "                                                                 ('tfidf',\n",
       "                                                                  TfidfVectorizer())])),\n",
       "                                                ('Tags',\n",
       "                                                 Pipeline(steps=[('imputer',\n",
       "                                                                  TextImputer(key='Tags',\n",
       "                                                                              value='')),\n",
       "                                                                 ('selector',\n",
       "                                                                  ColumnSelector(key='Tags')),\n",
       "                                                                 ('tfidf',\n",
       "                                                                  TfidfVectorizer())]))])),\n",
       "                ('classifier', LogisticRegression())])"
      ]
     },
     "execution_count": 12,
     "metadata": {},
     "output_type": "execute_result"
    }
   ],
   "source": [
    "%%time\n",
    "\n",
    "pipeline = Pipeline([\n",
    "    ('features', feats),\n",
    "    ('classifier', LogisticRegression()),\n",
    "])\n",
    "\n",
    "pipeline.fit(X_train, y_train)"
   ]
  },
  {
   "cell_type": "code",
   "execution_count": 13,
   "metadata": {},
   "outputs": [
    {
     "data": {
      "text/plain": [
       "[('features',\n",
       "  FeatureUnion(transformer_list=[('Title',\n",
       "                                  Pipeline(steps=[('imputer',\n",
       "                                                   TextImputer(key='Title',\n",
       "                                                               value='')),\n",
       "                                                  ('selector',\n",
       "                                                   ColumnSelector(key='Title')),\n",
       "                                                  ('tfidf', TfidfVectorizer())])),\n",
       "                                 ('Body',\n",
       "                                  Pipeline(steps=[('imputer',\n",
       "                                                   TextImputer(key='Body',\n",
       "                                                               value='')),\n",
       "                                                  ('selector',\n",
       "                                                   ColumnSelector(key='Body')),\n",
       "                                                  ('tfidf', TfidfVectorizer())])),\n",
       "                                 ('Tags',\n",
       "                                  Pipeline(steps=[('imputer',\n",
       "                                                   TextImputer(key='Tags',\n",
       "                                                               value='')),\n",
       "                                                  ('selector',\n",
       "                                                   ColumnSelector(key='Tags')),\n",
       "                                                  ('tfidf',\n",
       "                                                   TfidfVectorizer())]))])),\n",
       " ('classifier', LogisticRegression())]"
      ]
     },
     "execution_count": 13,
     "metadata": {},
     "output_type": "execute_result"
    }
   ],
   "source": [
    "pipeline.steps"
   ]
  },
  {
   "cell_type": "code",
   "execution_count": 14,
   "metadata": {},
   "outputs": [],
   "source": [
    "with open(\"logreg_pipeline.dill\", \"wb\") as f:\n",
    "    dill.dump(pipeline, f)"
   ]
  },
  {
   "cell_type": "code",
   "execution_count": 15,
   "metadata": {},
   "outputs": [],
   "source": [
    "X_test = pd.read_csv(\"X_test.csv\")\n",
    "y_test = pd.read_csv(\"y_test.csv\")"
   ]
  },
  {
   "cell_type": "code",
   "execution_count": 16,
   "metadata": {},
   "outputs": [
    {
     "data": {
      "text/html": [
       "<div>\n",
       "<style scoped>\n",
       "    .dataframe tbody tr th:only-of-type {\n",
       "        vertical-align: middle;\n",
       "    }\n",
       "\n",
       "    .dataframe tbody tr th {\n",
       "        vertical-align: top;\n",
       "    }\n",
       "\n",
       "    .dataframe thead th {\n",
       "        text-align: right;\n",
       "    }\n",
       "</style>\n",
       "<table border=\"1\" class=\"dataframe\">\n",
       "  <thead>\n",
       "    <tr style=\"text-align: right;\">\n",
       "      <th></th>\n",
       "      <th>Id</th>\n",
       "      <th>Title</th>\n",
       "      <th>Body</th>\n",
       "      <th>Tags</th>\n",
       "      <th>CreationDate</th>\n",
       "      <th>Y</th>\n",
       "    </tr>\n",
       "  </thead>\n",
       "  <tbody>\n",
       "    <tr>\n",
       "      <th>0</th>\n",
       "      <td>54233203</td>\n",
       "      <td>not able to run function in php</td>\n",
       "      <td>&lt;p&gt;I'am not able to run a function in php oops...</td>\n",
       "      <td>&lt;php&gt;&lt;oop&gt;</td>\n",
       "      <td>2019-01-17 09:54:10</td>\n",
       "      <td>1</td>\n",
       "    </tr>\n",
       "    <tr>\n",
       "      <th>1</th>\n",
       "      <td>39253307</td>\n",
       "      <td>Export GIT LOG into an Excel file</td>\n",
       "      <td>&lt;p&gt;I have looked into the forum, but with no l...</td>\n",
       "      <td>&lt;git&gt;&lt;logging&gt;</td>\n",
       "      <td>2016-08-31 15:13:57</td>\n",
       "      <td>0</td>\n",
       "    </tr>\n",
       "    <tr>\n",
       "      <th>2</th>\n",
       "      <td>58793066</td>\n",
       "      <td>How to summarize the employees by net revenue ...</td>\n",
       "      <td>8.\\tThe sales director would like to reward th...</td>\n",
       "      <td>&lt;sql&gt;</td>\n",
       "      <td>2019-11-10 21:25:11</td>\n",
       "      <td>1</td>\n",
       "    </tr>\n",
       "  </tbody>\n",
       "</table>\n",
       "</div>"
      ],
      "text/plain": [
       "         Id                                              Title  \\\n",
       "0  54233203                    not able to run function in php   \n",
       "1  39253307                  Export GIT LOG into an Excel file   \n",
       "2  58793066  How to summarize the employees by net revenue ...   \n",
       "\n",
       "                                                Body            Tags  \\\n",
       "0  <p>I'am not able to run a function in php oops...      <php><oop>   \n",
       "1  <p>I have looked into the forum, but with no l...  <git><logging>   \n",
       "2  8.\\tThe sales director would like to reward th...           <sql>   \n",
       "\n",
       "          CreationDate  Y  \n",
       "0  2019-01-17 09:54:10  1  \n",
       "1  2016-08-31 15:13:57  0  \n",
       "2  2019-11-10 21:25:11  1  "
      ]
     },
     "execution_count": 16,
     "metadata": {},
     "output_type": "execute_result"
    }
   ],
   "source": [
    "X_test.head(3)"
   ]
  },
  {
   "cell_type": "code",
   "execution_count": 17,
   "metadata": {},
   "outputs": [],
   "source": [
    "with open('logreg_pipeline.dill', 'rb') as in_strm:\n",
    "    pipeline = dill.load(in_strm)"
   ]
  },
  {
   "cell_type": "code",
   "execution_count": 18,
   "metadata": {},
   "outputs": [
    {
     "data": {
      "text/plain": [
       "Pipeline(steps=[('features',\n",
       "                 FeatureUnion(transformer_list=[('Title',\n",
       "                                                 Pipeline(steps=[('imputer',\n",
       "                                                                  TextImputer(key='Title',\n",
       "                                                                              value='')),\n",
       "                                                                 ('selector',\n",
       "                                                                  ColumnSelector(key='Title')),\n",
       "                                                                 ('tfidf',\n",
       "                                                                  TfidfVectorizer())])),\n",
       "                                                ('Body',\n",
       "                                                 Pipeline(steps=[('imputer',\n",
       "                                                                  TextImputer(key='Body',\n",
       "                                                                              value='')),\n",
       "                                                                 ('selector',\n",
       "                                                                  ColumnSelector(key='Body')),\n",
       "                                                                 ('tfidf',\n",
       "                                                                  TfidfVectorizer())])),\n",
       "                                                ('Tags',\n",
       "                                                 Pipeline(steps=[('imputer',\n",
       "                                                                  TextImputer(key='Tags',\n",
       "                                                                              value='')),\n",
       "                                                                 ('selector',\n",
       "                                                                  ColumnSelector(key='Tags')),\n",
       "                                                                 ('tfidf',\n",
       "                                                                  TfidfVectorizer())]))])),\n",
       "                ('classifier', LogisticRegression())])"
      ]
     },
     "execution_count": 18,
     "metadata": {},
     "output_type": "execute_result"
    }
   ],
   "source": [
    "pipeline"
   ]
  },
  {
   "cell_type": "code",
   "execution_count": 19,
   "metadata": {},
   "outputs": [],
   "source": [
    "preds = pipeline.predict_proba(X_test)[:, 1]\n",
    "\n",
    "pred_df = pd.DataFrame({'preds': preds})\n",
    "pred_df.to_csv(\"test_predictions.csv\", index=None)"
   ]
  },
  {
   "cell_type": "code",
   "execution_count": 20,
   "metadata": {},
   "outputs": [
    {
     "data": {
      "text/plain": [
       "array([0.98797278, 0.32500596, 0.97923746, 0.8829708 , 0.95554451,\n",
       "       0.91716488, 0.47180894, 0.06637664, 0.84354527, 0.97909931])"
      ]
     },
     "execution_count": 20,
     "metadata": {},
     "output_type": "execute_result"
    }
   ],
   "source": [
    "preds[:10]"
   ]
  },
  {
   "cell_type": "code",
   "execution_count": 21,
   "metadata": {},
   "outputs": [
    {
     "name": "stdout",
     "output_type": "stream",
     "text": [
      "Best Threshold=0.4690497980679384, F-Score=0.933, Precision=0.922, Recall=0.944\n"
     ]
    }
   ],
   "source": [
    "precision, recall, thresholds = precision_recall_curve(y_test, preds)\n",
    "\n",
    "fscore = (2 * precision * recall) / (precision + recall)\n",
    "# locate the index of the largest f score\n",
    "ix = np.argmax(fscore)\n",
    "print(f'Best Threshold={thresholds[ix]}, F-Score={fscore[ix]:.3f}, Precision={precision[ix]:.3f}, Recall={recall[ix]:.3f}')"
   ]
  },
  {
   "cell_type": "code",
   "execution_count": 22,
   "metadata": {},
   "outputs": [
    {
     "name": "stdout",
     "output_type": "stream",
     "text": [
      "Requirement already satisfied: flask-ngrok in c:\\users\\ekate\\anaconda3\\lib\\site-packages (0.0.25)\n",
      "Requirement already satisfied: requests in c:\\users\\ekate\\anaconda3\\lib\\site-packages (from flask-ngrok) (2.27.1)\n",
      "Requirement already satisfied: Flask>=0.8 in c:\\users\\ekate\\anaconda3\\lib\\site-packages (from flask-ngrok) (1.1.2)\n",
      "Requirement already satisfied: Werkzeug>=0.15 in c:\\users\\ekate\\anaconda3\\lib\\site-packages (from Flask>=0.8->flask-ngrok) (2.0.3)\n",
      "Requirement already satisfied: click>=5.1 in c:\\users\\ekate\\anaconda3\\lib\\site-packages (from Flask>=0.8->flask-ngrok) (8.0.4)\n",
      "Requirement already satisfied: Jinja2>=2.10.1 in c:\\users\\ekate\\anaconda3\\lib\\site-packages (from Flask>=0.8->flask-ngrok) (2.11.3)\n",
      "Requirement already satisfied: itsdangerous>=0.24 in c:\\users\\ekate\\anaconda3\\lib\\site-packages (from Flask>=0.8->flask-ngrok) (2.0.1)\n",
      "Requirement already satisfied: colorama in c:\\users\\ekate\\anaconda3\\lib\\site-packages (from click>=5.1->Flask>=0.8->flask-ngrok) (0.4.4)\n",
      "Requirement already satisfied: MarkupSafe>=0.23 in c:\\users\\ekate\\anaconda3\\lib\\site-packages (from Jinja2>=2.10.1->Flask>=0.8->flask-ngrok) (2.0.1)\n",
      "Requirement already satisfied: idna<4,>=2.5 in c:\\users\\ekate\\anaconda3\\lib\\site-packages (from requests->flask-ngrok) (3.3)\n",
      "Requirement already satisfied: urllib3<1.27,>=1.21.1 in c:\\users\\ekate\\anaconda3\\lib\\site-packages (from requests->flask-ngrok) (1.26.9)\n",
      "Requirement already satisfied: charset-normalizer~=2.0.0 in c:\\users\\ekate\\anaconda3\\lib\\site-packages (from requests->flask-ngrok) (2.0.4)\n",
      "Requirement already satisfied: certifi>=2017.4.17 in c:\\users\\ekate\\anaconda3\\lib\\site-packages (from requests->flask-ngrok) (2021.10.8)\n"
     ]
    }
   ],
   "source": [
    "!pip3 install flask-ngrok"
   ]
  },
  {
   "cell_type": "code",
   "execution_count": 23,
   "metadata": {},
   "outputs": [],
   "source": [
    "from flask import Flask, request, jsonify"
   ]
  },
  {
   "cell_type": "code",
   "execution_count": 24,
   "metadata": {},
   "outputs": [
    {
     "name": "stdout",
     "output_type": "stream",
     "text": [
      " * Serving Flask app \"__main__\" (lazy loading)\n",
      " * Environment: production\n",
      "\u001b[31m   WARNING: This is a development server. Do not use it in a production deployment.\u001b[0m\n",
      "\u001b[2m   Use a production WSGI server instead.\u001b[0m\n",
      " * Debug mode: off\n"
     ]
    },
    {
     "name": "stderr",
     "output_type": "stream",
     "text": [
      " * Running on http://127.0.0.1:8082/ (Press CTRL+C to quit)\n"
     ]
    }
   ],
   "source": [
    "app = Flask(__name__)\n",
    "#run_with_ngrok(app)  # Start ngrok when app is run\n",
    "\n",
    "@app.route(\"/a\")\n",
    "def hello():\n",
    "    return \"Hello World!\"\n",
    "\n",
    "if __name__ == '__main__':\n",
    "    app.run(port=8082)"
   ]
  },
  {
   "cell_type": "code",
   "execution_count": 25,
   "metadata": {},
   "outputs": [],
   "source": [
    "with open('logreg_pipeline.dill', 'rb') as in_strm:\n",
    "    model = dill.load(in_strm)"
   ]
  },
  {
   "cell_type": "code",
   "execution_count": 26,
   "metadata": {},
   "outputs": [],
   "source": [
    "X_test = pd.read_csv(\"X_test.csv\")\n",
    "y_test = pd.read_csv(\"y_test.csv\")"
   ]
  },
  {
   "cell_type": "code",
   "execution_count": 27,
   "metadata": {},
   "outputs": [
    {
     "name": "stdout",
     "output_type": "stream",
     "text": [
      " * Serving Flask app \"__main__\" (lazy loading)\n",
      " * Environment: production\n",
      "\u001b[31m   WARNING: This is a development server. Do not use it in a production deployment.\u001b[0m\n",
      "\u001b[2m   Use a production WSGI server instead.\u001b[0m\n",
      " * Debug mode: off\n"
     ]
    },
    {
     "name": "stderr",
     "output_type": "stream",
     "text": [
      " * Running on http://127.0.0.1:8082/ (Press CTRL+C to quit)\n",
      "127.0.0.1 - - [20/Jul/2023 22:43:38] \"POST //predict HTTP/1.1\" 200 -\n"
     ]
    },
    {
     "name": "stdout",
     "output_type": "stream",
     "text": [
      "How to summarize the employees by net revenue\n",
      "OK\n"
     ]
    },
    {
     "name": "stderr",
     "output_type": "stream",
     "text": [
      "127.0.0.1 - - [20/Jul/2023 22:43:39] \"POST //predict HTTP/1.1\" 200 -\n",
      "127.0.0.1 - - [20/Jul/2023 22:43:39] \"POST //predict HTTP/1.1\" 200 -\n",
      "127.0.0.1 - - [20/Jul/2023 22:43:39] \"POST //predict HTTP/1.1\" 200 -\n",
      "127.0.0.1 - - [20/Jul/2023 22:43:39] \"POST //predict HTTP/1.1\" 200 -\n",
      "127.0.0.1 - - [20/Jul/2023 22:43:39] \"POST //predict HTTP/1.1\" 200 -\n",
      "127.0.0.1 - - [20/Jul/2023 22:43:39] \"POST //predict HTTP/1.1\" 200 -\n",
      "127.0.0.1 - - [20/Jul/2023 22:43:39] \"POST //predict HTTP/1.1\" 200 -\n",
      "127.0.0.1 - - [20/Jul/2023 22:43:39] \"POST //predict HTTP/1.1\" 200 -\n",
      "127.0.0.1 - - [20/Jul/2023 22:43:39] \"POST //predict HTTP/1.1\" 200 -\n",
      "127.0.0.1 - - [20/Jul/2023 22:43:39] \"POST //predict HTTP/1.1\" 200 -\n",
      "127.0.0.1 - - [20/Jul/2023 22:43:39] \"POST //predict HTTP/1.1\" 200 -\n",
      "127.0.0.1 - - [20/Jul/2023 22:43:39] \"POST //predict HTTP/1.1\" 200 -\n",
      "127.0.0.1 - - [20/Jul/2023 22:43:39] \"POST //predict HTTP/1.1\" 200 -\n",
      "127.0.0.1 - - [20/Jul/2023 22:43:39] \"POST //predict HTTP/1.1\" 200 -\n",
      "127.0.0.1 - - [20/Jul/2023 22:43:39] \"POST //predict HTTP/1.1\" 200 -\n"
     ]
    },
    {
     "name": "stdout",
     "output_type": "stream",
     "text": [
      "How to get all the child records from different tables based on given parent ID in sql server\n",
      "OK\n",
      "How to get all the child records from different tables based on given parent ID in sql server\n",
      "OK\n",
      "Retrieve all except some data of the another table\n",
      "OK\n",
      "Pandas: read_html\n",
      "OK\n",
      "Reader Always gimme NULL\n",
      "OK\n",
      "php rearrange array elements based on condition\n",
      "OK\n",
      "How do I make a constructor for a derived class?\n",
      "OK\n",
      "how can i create a dynamic tow dimensional array in c++?\n",
      "OK\n",
      "Re-exporting ES6 modules in TS 1.7?\n",
      "OK\n",
      "Fetch API with Cookie\n",
      "OK\n",
      "Print list content in a given order\n",
      "OK\n",
      "c# - List all primes upto 100\n",
      "OK\n",
      "Angular2 exception: Token must be defined\n",
      "OK\n",
      "Form Validation project\n",
      "OK\n",
      "Most Pythonic way to kill a thread after some period of time\n",
      "OK\n",
      "Gulp error internal/child_process.js:298 throw errnoException(err, 'spawn'); Error: spawn EACCES\n",
      "OK\n"
     ]
    },
    {
     "name": "stderr",
     "output_type": "stream",
     "text": [
      "127.0.0.1 - - [20/Jul/2023 22:43:39] \"POST //predict HTTP/1.1\" 200 -\n",
      "127.0.0.1 - - [20/Jul/2023 22:43:39] \"POST //predict HTTP/1.1\" 200 -\n",
      "127.0.0.1 - - [20/Jul/2023 22:43:39] \"POST //predict HTTP/1.1\" 200 -\n",
      "127.0.0.1 - - [20/Jul/2023 22:43:39] \"POST //predict HTTP/1.1\" 200 -\n",
      "127.0.0.1 - - [20/Jul/2023 22:43:39] \"POST //predict HTTP/1.1\" 200 -\n",
      "127.0.0.1 - - [20/Jul/2023 22:43:39] \"POST //predict HTTP/1.1\" 200 -\n",
      "127.0.0.1 - - [20/Jul/2023 22:43:39] \"POST //predict HTTP/1.1\" 200 -\n",
      "127.0.0.1 - - [20/Jul/2023 22:43:39] \"POST //predict HTTP/1.1\" 200 -\n",
      "127.0.0.1 - - [20/Jul/2023 22:43:39] \"POST //predict HTTP/1.1\" 200 -\n",
      "127.0.0.1 - - [20/Jul/2023 22:43:39] \"POST //predict HTTP/1.1\" 200 -\n",
      "127.0.0.1 - - [20/Jul/2023 22:43:39] \"POST //predict HTTP/1.1\" 200 -\n",
      "127.0.0.1 - - [20/Jul/2023 22:43:39] \"POST //predict HTTP/1.1\" 200 -\n",
      "127.0.0.1 - - [20/Jul/2023 22:43:39] \"POST //predict HTTP/1.1\" 200 -\n",
      "127.0.0.1 - - [20/Jul/2023 22:43:39] \"POST //predict HTTP/1.1\" 200 -\n",
      "127.0.0.1 - - [20/Jul/2023 22:43:39] \"POST //predict HTTP/1.1\" 200 -\n",
      "127.0.0.1 - - [20/Jul/2023 22:43:39] \"POST //predict HTTP/1.1\" 200 -\n",
      "127.0.0.1 - - [20/Jul/2023 22:43:39] \"POST //predict HTTP/1.1\" 200 -\n",
      "127.0.0.1 - - [20/Jul/2023 22:43:39] \"POST //predict HTTP/1.1\" 200 -\n",
      "127.0.0.1 - - [20/Jul/2023 22:43:39] \"POST //predict HTTP/1.1\" 200 -\n",
      "127.0.0.1 - - [20/Jul/2023 22:43:39] \"POST //predict HTTP/1.1\" 200 -\n",
      "127.0.0.1 - - [20/Jul/2023 22:43:39] \"POST //predict HTTP/1.1\" 200 -\n",
      "127.0.0.1 - - [20/Jul/2023 22:43:39] \"POST //predict HTTP/1.1\" 200 -\n"
     ]
    },
    {
     "name": "stdout",
     "output_type": "stream",
     "text": [
      "Filter Name with Starting Letter in C#\n",
      "OK\n",
      "Django ImageField upload_to path\n",
      "OK\n",
      "Compiling SASS in Windows 7\n",
      "OK\n",
      "to get or set the values of controls of a form froma class file\n",
      "OK\n",
      "i am new to pythn and was trying to fix indentation error : this is my code class Cylinder(object):\n",
      "OK\n",
      "I cant UPDATE datetime to MySQL\n",
      "OK\n",
      "How to correctly share JAX-RS 2.0 client\n",
      "OK\n",
      "argument of type'NoneType' is not itrable\n",
      "OK\n",
      "I am getting a StringIndexOutOfBoundsException when I attempt to use array parts from the children classes\n",
      "OK\n",
      "In python-telegram-bot how to get all participants of the group?\n",
      "OK\n",
      "GIT Split Repository directory preserving *move / renames* history\n",
      "OK\n",
      "React Native Post Request via Fetch throws Network Request Failed\n",
      "OK\n",
      "What is the mathematical definition of (f(n)) and O(f(n))\n",
      "OK\n",
      "Turn Android into USB host\n",
      "OK\n",
      "I want to insert a couple of sentences into an array\n",
      "OK\n",
      "Elasticsearch Bulk API - Index vs Create/Update\n",
      "OK\n",
      "SockJS Python Client\n",
      "OK\n",
      "Simple console graphics in C\n",
      "OK\n",
      "Hover effect is backward from image. How hover effect can be forward from image?\n",
      "OK\n",
      "I am trying to build a small web crawler, but pycharm does not show data\n",
      "OK\n",
      "Finding any element with specific first coordinate in set<pair> >\n",
      "OK\n",
      "Godaddy refresh function in php"
     ]
    },
    {
     "name": "stderr",
     "output_type": "stream",
     "text": [
      "127.0.0.1 - - [20/Jul/2023 22:43:39] \"POST //predict HTTP/1.1\" 200 -\n",
      "127.0.0.1 - - [20/Jul/2023 22:43:39] \"POST //predict HTTP/1.1\" 200 -\n",
      "127.0.0.1 - - [20/Jul/2023 22:43:39] \"POST //predict HTTP/1.1\" 200 -\n",
      "127.0.0.1 - - [20/Jul/2023 22:43:39] \"POST //predict HTTP/1.1\" 200 -\n",
      "127.0.0.1 - - [20/Jul/2023 22:43:39] \"POST //predict HTTP/1.1\" 200 -\n",
      "127.0.0.1 - - [20/Jul/2023 22:43:39] \"POST //predict HTTP/1.1\" 200 -\n",
      "127.0.0.1 - - [20/Jul/2023 22:43:39] \"POST //predict HTTP/1.1\" 200 -\n",
      "127.0.0.1 - - [20/Jul/2023 22:43:39] \"POST //predict HTTP/1.1\" 200 -\n",
      "127.0.0.1 - - [20/Jul/2023 22:43:39] \"POST //predict HTTP/1.1\" 200 -\n",
      "127.0.0.1 - - [20/Jul/2023 22:43:39] \"POST //predict HTTP/1.1\" 200 -\n",
      "127.0.0.1 - - [20/Jul/2023 22:43:39] \"POST //predict HTTP/1.1\" 200 -\n",
      "127.0.0.1 - - [20/Jul/2023 22:43:39] \"POST //predict HTTP/1.1\" 200 -\n",
      "127.0.0.1 - - [20/Jul/2023 22:43:39] \"POST //predict HTTP/1.1\" 200 -\n",
      "127.0.0.1 - - [20/Jul/2023 22:43:39] \"POST //predict HTTP/1.1\" 200 -\n"
     ]
    },
    {
     "name": "stdout",
     "output_type": "stream",
     "text": [
      "\n",
      "OK\n",
      "Using R and plot.ly - how do I script saving my output as a webpage\n",
      "OK\n",
      "Does return ends function if ifelse is used?\n",
      "OK\n",
      "Why do we need field if we have property?\n",
      "OK\n",
      "Safe navigation operator (&.) for nil\n",
      "OK\n",
      "Fastest way to convert a integer to arbitrarily ordered byte arrays in JavaScript?\n",
      "OK\n",
      "Planning to make web app like Canva\n",
      "OK\n",
      "Cannot find alphabet symbol\n",
      "OK\n",
      "What is the easiest way to use material design in a react-native iOS app?\n",
      "OK\n",
      "cross or one to many in c#\n",
      "OK\n",
      "Need Help UnPIckling as String on Python\n",
      "OK\n",
      "How to log to journald (systemd) via Python?\n",
      "OK\n",
      "Python: how to capture image from webcam on click using OpenCV\n",
      "OK\n",
      "i have json file on local computer i want to use that file in javascript how can i use that in js\n",
      "OK\n"
     ]
    }
   ],
   "source": [
    "app = Flask(__name__)\n",
    "\n",
    "@app.route(\"/\", methods=[\"GET\"])\n",
    "def general():\n",
    "    return \"Welcome to prediction process\"\n",
    "\n",
    "@app.route('/predict', methods=['POST'])\n",
    "def predict():\n",
    "    data = {\"success\": False}\n",
    "\n",
    "    # ensure an image was properly uploaded to our endpoint\n",
    "    Title, Body, Tags = \"\", \"\", \"\"\n",
    "    \n",
    "    request_json = request.get_json()\n",
    "    \n",
    "    if request_json[\"Title\"]:\n",
    "        description = request_json['Title']\n",
    "    \n",
    "    if request_json[\"Body\"]:\n",
    "        company_profile = request_json['Body']\n",
    "                \n",
    "    if request_json[\"Tags\"]:\n",
    "        benefits = request_json['Tags']\n",
    "    \n",
    "    print(description)  \n",
    "    preds = model.predict_proba(pd.DataFrame({\"Title\": [Title],\n",
    "                                              \"Body\": [Body],\n",
    "                                              \"Tags\": [Tags]}))\n",
    "    data[\"predictions\"] = preds[:, 1][0]\n",
    "    data[\"description\"] = description\n",
    "        # indicate that the request was a success\n",
    "    data[\"success\"] = True\n",
    "    print('OK')\n",
    "\n",
    "        # return the data dictionary as a JSON response\n",
    "    return jsonify(data)\n",
    "\n",
    "\n",
    "if __name__ == '__main__':\n",
    "    app.run(port=8082)"
   ]
  },
  {
   "cell_type": "code",
   "execution_count": 28,
   "metadata": {},
   "outputs": [],
   "source": [
    "Title_data, Body_data, Tags_data = ( \n",
    "    \"How to summarize the employees by net revenue\",\n",
    "    \"My data is look like below (usually more than\",\n",
    "    \"<sql><sql-server>\"\n",
    ")\n",
    "\n",
    "body = {\n",
    "        'Title': Title, \n",
    "        'Body': Body,\n",
    "        'Tags': Tags\n",
    "        }"
   ]
  },
  {
   "cell_type": "code",
   "execution_count": null,
   "metadata": {},
   "outputs": [],
   "source": [
    "with app.test_client() as t:\n",
    "    response = t.post('/predict', json=body)\n",
    "    json_data = response.get_json()\n",
    "\n",
    "json_data\n"
   ]
  }
 ],
 "metadata": {
  "kernelspec": {
   "display_name": "Python 3 (ipykernel)",
   "language": "python",
   "name": "python3"
  },
  "language_info": {
   "codemirror_mode": {
    "name": "ipython",
    "version": 3
   },
   "file_extension": ".py",
   "mimetype": "text/x-python",
   "name": "python",
   "nbconvert_exporter": "python",
   "pygments_lexer": "ipython3",
   "version": "3.9.12"
  }
 },
 "nbformat": 4,
 "nbformat_minor": 2
}
