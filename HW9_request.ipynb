{
 "cells": [
  {
   "cell_type": "code",
   "execution_count": 1,
   "id": "a478c0d7",
   "metadata": {},
   "outputs": [],
   "source": [
    "import requests\n",
    "\n",
    "import urllib.request\n",
    "import json "
   ]
  },
  {
   "cell_type": "code",
   "execution_count": 2,
   "id": "add1c8c6",
   "metadata": {},
   "outputs": [],
   "source": [
    "data = ( \n",
    "    \"How to summarize the employees by net revenue\",\n",
    "    \"My data is look like below (usually more than\",\n",
    "    \"<sql><sql-server>\"\n",
    ")"
   ]
  },
  {
   "cell_type": "code",
   "execution_count": 3,
   "id": "43899253",
   "metadata": {},
   "outputs": [],
   "source": [
    "def send_json(x):\n",
    "    Title, Body, Tags = x\n",
    "    body = {\n",
    "        'Title': Title, \n",
    "        'Body': Body,\n",
    "        'Tags': Tags\n",
    "        }\n",
    "    myurl = 'http://127.0.0.1:8082/' + '/predict'\n",
    "    headers = {'content-type': 'application/json; charset=utf-8'}\n",
    "    response = requests.post(myurl, json=body, headers=headers)\n",
    "    return response.json()['predictions']"
   ]
  },
  {
   "cell_type": "code",
   "execution_count": 4,
   "id": "95747470",
   "metadata": {},
   "outputs": [
    {
     "name": "stdout",
     "output_type": "stream",
     "text": [
      "предсказание 0.7913051672097864\n"
     ]
    }
   ],
   "source": [
    "response = send_json(data)\n",
    "print('предсказание', response)"
   ]
  },
  {
   "cell_type": "markdown",
   "id": "d527476f",
   "metadata": {},
   "source": [
    "Сделаем обработку массы запросов:"
   ]
  },
  {
   "cell_type": "code",
   "execution_count": 5,
   "id": "0c117edd",
   "metadata": {},
   "outputs": [],
   "source": [
    "import pandas as pd\n",
    "from sklearn.metrics import roc_auc_score, roc_curve, precision_recall_curve\n",
    "from sklearn.metrics import f1_score\n",
    "from urllib import request, parse"
   ]
  },
  {
   "cell_type": "code",
   "execution_count": 6,
   "id": "d29fc98d",
   "metadata": {},
   "outputs": [
    {
     "data": {
      "text/html": [
       "<div>\n",
       "<style scoped>\n",
       "    .dataframe tbody tr th:only-of-type {\n",
       "        vertical-align: middle;\n",
       "    }\n",
       "\n",
       "    .dataframe tbody tr th {\n",
       "        vertical-align: top;\n",
       "    }\n",
       "\n",
       "    .dataframe thead th {\n",
       "        text-align: right;\n",
       "    }\n",
       "</style>\n",
       "<table border=\"1\" class=\"dataframe\">\n",
       "  <thead>\n",
       "    <tr style=\"text-align: right;\">\n",
       "      <th></th>\n",
       "      <th>Id</th>\n",
       "      <th>Title</th>\n",
       "      <th>Body</th>\n",
       "      <th>Tags</th>\n",
       "      <th>CreationDate</th>\n",
       "      <th>Y</th>\n",
       "    </tr>\n",
       "  </thead>\n",
       "  <tbody>\n",
       "    <tr>\n",
       "      <th>0</th>\n",
       "      <td>34552974</td>\n",
       "      <td>How to get all the child records from differen...</td>\n",
       "      <td>I am having 4 different tables like \\r\\nselect...</td>\n",
       "      <td>&lt;sql&gt;&lt;sql-server&gt;</td>\n",
       "      <td>2016-01-01 01:44:52</td>\n",
       "      <td>LQ_EDIT</td>\n",
       "    </tr>\n",
       "    <tr>\n",
       "      <th>1</th>\n",
       "      <td>34554721</td>\n",
       "      <td>Retrieve all except some data of the another t...</td>\n",
       "      <td>I have two table m_master and tbl_appointment\\...</td>\n",
       "      <td>&lt;php&gt;&lt;mysql&gt;&lt;sql&gt;&lt;codeigniter&gt;&lt;mysqli&gt;</td>\n",
       "      <td>2016-01-01 08:43:50</td>\n",
       "      <td>LQ_EDIT</td>\n",
       "    </tr>\n",
       "    <tr>\n",
       "      <th>2</th>\n",
       "      <td>34555135</td>\n",
       "      <td>Pandas: read_html</td>\n",
       "      <td>&lt;p&gt;I'm trying to extract US states from wiki U...</td>\n",
       "      <td>&lt;python&gt;&lt;pandas&gt;</td>\n",
       "      <td>2016-01-01 09:55:22</td>\n",
       "      <td>HQ</td>\n",
       "    </tr>\n",
       "    <tr>\n",
       "      <th>3</th>\n",
       "      <td>34555448</td>\n",
       "      <td>Reader Always gimme NULL</td>\n",
       "      <td>I'm so new to C#, I wanna make an application ...</td>\n",
       "      <td>&lt;sql-server&gt;&lt;c#-4.0&gt;</td>\n",
       "      <td>2016-01-01 10:43:45</td>\n",
       "      <td>LQ_EDIT</td>\n",
       "    </tr>\n",
       "    <tr>\n",
       "      <th>4</th>\n",
       "      <td>34555752</td>\n",
       "      <td>php rearrange array elements based on condition</td>\n",
       "      <td>basically i have this array:\\r\\n\\r\\n    array(...</td>\n",
       "      <td>&lt;php&gt;</td>\n",
       "      <td>2016-01-01 11:34:09</td>\n",
       "      <td>LQ_EDIT</td>\n",
       "    </tr>\n",
       "    <tr>\n",
       "      <th>5</th>\n",
       "      <td>34557209</td>\n",
       "      <td>How do I make a constructor for a derived class?</td>\n",
       "      <td>&lt;p&gt;I am trying to make a constructor for a der...</td>\n",
       "      <td>&lt;c++&gt;&lt;inheritance&gt;&lt;constructor&gt;&lt;derived-class&gt;</td>\n",
       "      <td>2016-01-01 14:58:52</td>\n",
       "      <td>LQ_CLOSE</td>\n",
       "    </tr>\n",
       "    <tr>\n",
       "      <th>6</th>\n",
       "      <td>34557363</td>\n",
       "      <td>how can i create a dynamic tow dimensional arr...</td>\n",
       "      <td>I am using c++ in my lesson and for solving a...</td>\n",
       "      <td>&lt;c++&gt;</td>\n",
       "      <td>2016-01-01 15:21:17</td>\n",
       "      <td>LQ_EDIT</td>\n",
       "    </tr>\n",
       "    <tr>\n",
       "      <th>7</th>\n",
       "      <td>34557587</td>\n",
       "      <td>Re-exporting ES6 modules in TS 1.7?</td>\n",
       "      <td>&lt;p&gt;I'm getting a bit lost in TS re-exports. Sa...</td>\n",
       "      <td>&lt;typescript&gt;&lt;ecmascript-6&gt;&lt;es6-module-loader&gt;&lt;...</td>\n",
       "      <td>2016-01-01 15:50:30</td>\n",
       "      <td>HQ</td>\n",
       "    </tr>\n",
       "    <tr>\n",
       "      <th>8</th>\n",
       "      <td>34558264</td>\n",
       "      <td>Fetch API with Cookie</td>\n",
       "      <td>&lt;p&gt;I am trying out the new Fetch API but is ha...</td>\n",
       "      <td>&lt;cookies&gt;&lt;fetch-api&gt;</td>\n",
       "      <td>2016-01-01 17:21:19</td>\n",
       "      <td>HQ</td>\n",
       "    </tr>\n",
       "    <tr>\n",
       "      <th>9</th>\n",
       "      <td>34559136</td>\n",
       "      <td>Print list content in a given order</td>\n",
       "      <td>&lt;pre&gt;&lt;code&gt;lt = ['7,777.7', '777.7', '77,777.7...</td>\n",
       "      <td>&lt;python&gt;&lt;list&gt;&lt;python-2.7&gt;&lt;for-loop&gt;</td>\n",
       "      <td>2016-01-01 19:08:12</td>\n",
       "      <td>LQ_CLOSE</td>\n",
       "    </tr>\n",
       "  </tbody>\n",
       "</table>\n",
       "</div>"
      ],
      "text/plain": [
       "         Id                                              Title  \\\n",
       "0  34552974  How to get all the child records from differen...   \n",
       "1  34554721  Retrieve all except some data of the another t...   \n",
       "2  34555135                                  Pandas: read_html   \n",
       "3  34555448                           Reader Always gimme NULL   \n",
       "4  34555752    php rearrange array elements based on condition   \n",
       "5  34557209   How do I make a constructor for a derived class?   \n",
       "6  34557363  how can i create a dynamic tow dimensional arr...   \n",
       "7  34557587                Re-exporting ES6 modules in TS 1.7?   \n",
       "8  34558264                              Fetch API with Cookie   \n",
       "9  34559136                Print list content in a given order   \n",
       "\n",
       "                                                Body  \\\n",
       "0  I am having 4 different tables like \\r\\nselect...   \n",
       "1  I have two table m_master and tbl_appointment\\...   \n",
       "2  <p>I'm trying to extract US states from wiki U...   \n",
       "3  I'm so new to C#, I wanna make an application ...   \n",
       "4  basically i have this array:\\r\\n\\r\\n    array(...   \n",
       "5  <p>I am trying to make a constructor for a der...   \n",
       "6   I am using c++ in my lesson and for solving a...   \n",
       "7  <p>I'm getting a bit lost in TS re-exports. Sa...   \n",
       "8  <p>I am trying out the new Fetch API but is ha...   \n",
       "9  <pre><code>lt = ['7,777.7', '777.7', '77,777.7...   \n",
       "\n",
       "                                                Tags         CreationDate  \\\n",
       "0                                  <sql><sql-server>  2016-01-01 01:44:52   \n",
       "1             <php><mysql><sql><codeigniter><mysqli>  2016-01-01 08:43:50   \n",
       "2                                   <python><pandas>  2016-01-01 09:55:22   \n",
       "3                               <sql-server><c#-4.0>  2016-01-01 10:43:45   \n",
       "4                                              <php>  2016-01-01 11:34:09   \n",
       "5     <c++><inheritance><constructor><derived-class>  2016-01-01 14:58:52   \n",
       "6                                              <c++>  2016-01-01 15:21:17   \n",
       "7  <typescript><ecmascript-6><es6-module-loader><...  2016-01-01 15:50:30   \n",
       "8                               <cookies><fetch-api>  2016-01-01 17:21:19   \n",
       "9               <python><list><python-2.7><for-loop>  2016-01-01 19:08:12   \n",
       "\n",
       "          Y  \n",
       "0   LQ_EDIT  \n",
       "1   LQ_EDIT  \n",
       "2        HQ  \n",
       "3   LQ_EDIT  \n",
       "4   LQ_EDIT  \n",
       "5  LQ_CLOSE  \n",
       "6   LQ_EDIT  \n",
       "7        HQ  \n",
       "8        HQ  \n",
       "9  LQ_CLOSE  "
      ]
     },
     "execution_count": 6,
     "metadata": {},
     "output_type": "execute_result"
    }
   ],
   "source": [
    "df = pd.read_csv(\"./valid.csv\")\n",
    "df.head(10)"
   ]
  },
  {
   "cell_type": "code",
   "execution_count": 7,
   "id": "86dd25d4",
   "metadata": {},
   "outputs": [],
   "source": [
    "df.fillna('', inplace=True)"
   ]
  },
  {
   "cell_type": "code",
   "execution_count": 8,
   "id": "0a5f59cd",
   "metadata": {},
   "outputs": [],
   "source": [
    "df['Y'] = df['Y'].apply(lambda x: 0 if x == 'HQ' else 1)"
   ]
  },
  {
   "cell_type": "code",
   "execution_count": 9,
   "id": "595ff818",
   "metadata": {},
   "outputs": [
    {
     "data": {
      "text/plain": [
       "1    10000\n",
       "0     5000\n",
       "Name: Y, dtype: int64"
      ]
     },
     "execution_count": 9,
     "metadata": {},
     "output_type": "execute_result"
    }
   ],
   "source": [
    "df['Y'].value_counts()"
   ]
  },
  {
   "cell_type": "code",
   "execution_count": 10,
   "id": "a64b05c5",
   "metadata": {},
   "outputs": [
    {
     "name": "stdout",
     "output_type": "stream",
     "text": [
      "предсказание 0.7913051672097864\n"
     ]
    }
   ],
   "source": [
    "response = send_json(df[['Title', 'Body','Tags']].iloc[0,:])\n",
    "print('предсказание', response)"
   ]
  },
  {
   "cell_type": "code",
   "execution_count": 11,
   "id": "4c68a4f9",
   "metadata": {},
   "outputs": [],
   "source": [
    "N = 50"
   ]
  },
  {
   "cell_type": "code",
   "execution_count": 12,
   "id": "60369fbd",
   "metadata": {},
   "outputs": [
    {
     "name": "stdout",
     "output_type": "stream",
     "text": [
      "CPU times: total: 0 ns\n",
      "Wall time: 461 ms\n"
     ]
    }
   ],
   "source": [
    "%%time\n",
    "predictions = df[['Title', 'Body','Tags']\n",
    "                ].iloc[:N].apply(lambda x: send_json(x), axis=1)"
   ]
  },
  {
   "cell_type": "code",
   "execution_count": 13,
   "id": "d717fa35",
   "metadata": {},
   "outputs": [
    {
     "data": {
      "text/plain": [
       "array([0.79130517, 0.79130517, 0.79130517, 0.79130517, 0.79130517])"
      ]
     },
     "execution_count": 13,
     "metadata": {},
     "output_type": "execute_result"
    }
   ],
   "source": [
    "predictions.values[:5]"
   ]
  },
  {
   "cell_type": "code",
   "execution_count": 14,
   "id": "f210e5de",
   "metadata": {},
   "outputs": [],
   "source": [
    "y_test = df['Y']"
   ]
  },
  {
   "cell_type": "code",
   "execution_count": 15,
   "id": "5f05c998",
   "metadata": {},
   "outputs": [
    {
     "name": "stdout",
     "output_type": "stream",
     "text": [
      "Best Threshold=0.7913051672097864, F-Score=0.750, Precision=0.600, Recall=1.000\n"
     ]
    }
   ],
   "source": [
    "import numpy as np\n",
    "\n",
    "precision, recall, thresholds = precision_recall_curve(y_test[:N], predictions)\n",
    "\n",
    "fscore = (2 * precision * recall) / (precision + recall)\n",
    "# locate the index of the largest f score\n",
    "ix = np.argmax(fscore)\n",
    "print(f'Best Threshold={thresholds[ix]}, F-Score={fscore[ix]:.3f}, Precision={precision[ix]:.3f}, Recall={recall[ix]:.3f}')"
   ]
  },
  {
   "cell_type": "code",
   "execution_count": 16,
   "id": "676418b7",
   "metadata": {},
   "outputs": [
    {
     "data": {
      "text/plain": [
       "0.5"
      ]
     },
     "execution_count": 16,
     "metadata": {},
     "output_type": "execute_result"
    }
   ],
   "source": [
    "roc_auc_score(y_score=predictions.values, y_true=y_test.values[:N])"
   ]
  },
  {
   "cell_type": "code",
   "execution_count": null,
   "id": "e26d7e81",
   "metadata": {},
   "outputs": [],
   "source": []
  }
 ],
 "metadata": {
  "kernelspec": {
   "display_name": "Python 3 (ipykernel)",
   "language": "python",
   "name": "python3"
  },
  "language_info": {
   "codemirror_mode": {
    "name": "ipython",
    "version": 3
   },
   "file_extension": ".py",
   "mimetype": "text/x-python",
   "name": "python",
   "nbconvert_exporter": "python",
   "pygments_lexer": "ipython3",
   "version": "3.9.12"
  }
 },
 "nbformat": 4,
 "nbformat_minor": 5
}
